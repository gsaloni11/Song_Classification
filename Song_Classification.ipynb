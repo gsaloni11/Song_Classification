{
 "cells": [
  {
   "cell_type": "markdown",
   "metadata": {},
   "source": [
    "#### Loading the data\n",
    "\n",
    "The data from 2 files is merged on track id using pandas."
   ]
  },
  {
   "cell_type": "code",
   "execution_count": 17,
   "metadata": {
    "scrolled": false
   },
   "outputs": [
    {
     "name": "stdout",
     "output_type": "stream",
     "text": [
      "<class 'pandas.core.frame.DataFrame'>\n",
      "Int64Index: 4802 entries, 0 to 4801\n",
      "Data columns (total 10 columns):\n",
      " #   Column            Non-Null Count  Dtype  \n",
      "---  ------            --------------  -----  \n",
      " 0   track_id          4802 non-null   int64  \n",
      " 1   acousticness      4802 non-null   float64\n",
      " 2   danceability      4802 non-null   float64\n",
      " 3   energy            4802 non-null   float64\n",
      " 4   instrumentalness  4802 non-null   float64\n",
      " 5   liveness          4802 non-null   float64\n",
      " 6   speechiness       4802 non-null   float64\n",
      " 7   tempo             4802 non-null   float64\n",
      " 8   valence           4802 non-null   float64\n",
      " 9   genre_top         4802 non-null   object \n",
      "dtypes: float64(8), int64(1), object(1)\n",
      "memory usage: 412.7+ KB\n",
      "None\n"
     ]
    },
    {
     "data": {
      "text/html": [
       "<div>\n",
       "<style scoped>\n",
       "    .dataframe tbody tr th:only-of-type {\n",
       "        vertical-align: middle;\n",
       "    }\n",
       "\n",
       "    .dataframe tbody tr th {\n",
       "        vertical-align: top;\n",
       "    }\n",
       "\n",
       "    .dataframe thead th {\n",
       "        text-align: right;\n",
       "    }\n",
       "</style>\n",
       "<table border=\"1\" class=\"dataframe\">\n",
       "  <thead>\n",
       "    <tr style=\"text-align: right;\">\n",
       "      <th></th>\n",
       "      <th>track_id</th>\n",
       "      <th>acousticness</th>\n",
       "      <th>danceability</th>\n",
       "      <th>energy</th>\n",
       "      <th>instrumentalness</th>\n",
       "      <th>liveness</th>\n",
       "      <th>speechiness</th>\n",
       "      <th>tempo</th>\n",
       "      <th>valence</th>\n",
       "      <th>genre_top</th>\n",
       "    </tr>\n",
       "  </thead>\n",
       "  <tbody>\n",
       "    <tr>\n",
       "      <th>0</th>\n",
       "      <td>2</td>\n",
       "      <td>0.416675</td>\n",
       "      <td>0.675894</td>\n",
       "      <td>0.634476</td>\n",
       "      <td>0.010628</td>\n",
       "      <td>0.177647</td>\n",
       "      <td>0.159310</td>\n",
       "      <td>165.922</td>\n",
       "      <td>0.576661</td>\n",
       "      <td>Hip-Hop</td>\n",
       "    </tr>\n",
       "    <tr>\n",
       "      <th>1</th>\n",
       "      <td>3</td>\n",
       "      <td>0.374408</td>\n",
       "      <td>0.528643</td>\n",
       "      <td>0.817461</td>\n",
       "      <td>0.001851</td>\n",
       "      <td>0.105880</td>\n",
       "      <td>0.461818</td>\n",
       "      <td>126.957</td>\n",
       "      <td>0.269240</td>\n",
       "      <td>Hip-Hop</td>\n",
       "    </tr>\n",
       "    <tr>\n",
       "      <th>2</th>\n",
       "      <td>5</td>\n",
       "      <td>0.043567</td>\n",
       "      <td>0.745566</td>\n",
       "      <td>0.701470</td>\n",
       "      <td>0.000697</td>\n",
       "      <td>0.373143</td>\n",
       "      <td>0.124595</td>\n",
       "      <td>100.260</td>\n",
       "      <td>0.621661</td>\n",
       "      <td>Hip-Hop</td>\n",
       "    </tr>\n",
       "    <tr>\n",
       "      <th>3</th>\n",
       "      <td>134</td>\n",
       "      <td>0.452217</td>\n",
       "      <td>0.513238</td>\n",
       "      <td>0.560410</td>\n",
       "      <td>0.019443</td>\n",
       "      <td>0.096567</td>\n",
       "      <td>0.525519</td>\n",
       "      <td>114.290</td>\n",
       "      <td>0.894072</td>\n",
       "      <td>Hip-Hop</td>\n",
       "    </tr>\n",
       "    <tr>\n",
       "      <th>4</th>\n",
       "      <td>153</td>\n",
       "      <td>0.988306</td>\n",
       "      <td>0.255661</td>\n",
       "      <td>0.979774</td>\n",
       "      <td>0.973006</td>\n",
       "      <td>0.121342</td>\n",
       "      <td>0.051740</td>\n",
       "      <td>90.241</td>\n",
       "      <td>0.034018</td>\n",
       "      <td>Rock</td>\n",
       "    </tr>\n",
       "  </tbody>\n",
       "</table>\n",
       "</div>"
      ],
      "text/plain": [
       "   track_id  acousticness  danceability    energy  instrumentalness  liveness  \\\n",
       "0         2      0.416675      0.675894  0.634476          0.010628  0.177647   \n",
       "1         3      0.374408      0.528643  0.817461          0.001851  0.105880   \n",
       "2         5      0.043567      0.745566  0.701470          0.000697  0.373143   \n",
       "3       134      0.452217      0.513238  0.560410          0.019443  0.096567   \n",
       "4       153      0.988306      0.255661  0.979774          0.973006  0.121342   \n",
       "\n",
       "   speechiness    tempo   valence genre_top  \n",
       "0     0.159310  165.922  0.576661   Hip-Hop  \n",
       "1     0.461818  126.957  0.269240   Hip-Hop  \n",
       "2     0.124595  100.260  0.621661   Hip-Hop  \n",
       "3     0.525519  114.290  0.894072   Hip-Hop  \n",
       "4     0.051740   90.241  0.034018      Rock  "
      ]
     },
     "execution_count": 17,
     "metadata": {},
     "output_type": "execute_result"
    }
   ],
   "source": [
    "import pandas as pd\n",
    "\n",
    "metrics_data = pd.read_csv('datasets/fma-rock-vs-hiphop.csv')\n",
    "track_data = pd.read_json('datasets/echonest-metrics.json',precise_float=True)\n",
    "\n",
    "# print(metrics_data.head(2))\n",
    "# print(track_data.head(2))\n",
    "\n",
    "df = pd.merge(track_data,metrics_data[['track_id','genre_top']],on='track_id')\n",
    "\n",
    "print(df.info())\n",
    "df.head(5)"
   ]
  },
  {
   "cell_type": "markdown",
   "metadata": {},
   "source": [
    "#### Finding the correlation matrix"
   ]
  },
  {
   "cell_type": "code",
   "execution_count": 18,
   "metadata": {},
   "outputs": [
    {
     "data": {
      "text/html": [
       "<style  type=\"text/css\" >\n",
       "#T_afe52d0e_ec6f_11eb_81b2_d46a6a9a01c8row0_col0,#T_afe52d0e_ec6f_11eb_81b2_d46a6a9a01c8row1_col1,#T_afe52d0e_ec6f_11eb_81b2_d46a6a9a01c8row2_col2,#T_afe52d0e_ec6f_11eb_81b2_d46a6a9a01c8row3_col3,#T_afe52d0e_ec6f_11eb_81b2_d46a6a9a01c8row4_col4,#T_afe52d0e_ec6f_11eb_81b2_d46a6a9a01c8row5_col5,#T_afe52d0e_ec6f_11eb_81b2_d46a6a9a01c8row6_col6,#T_afe52d0e_ec6f_11eb_81b2_d46a6a9a01c8row7_col7,#T_afe52d0e_ec6f_11eb_81b2_d46a6a9a01c8row8_col8{\n",
       "            background-color:  #023858;\n",
       "            color:  #f1f1f1;\n",
       "        }#T_afe52d0e_ec6f_11eb_81b2_d46a6a9a01c8row0_col1,#T_afe52d0e_ec6f_11eb_81b2_d46a6a9a01c8row1_col0,#T_afe52d0e_ec6f_11eb_81b2_d46a6a9a01c8row1_col3,#T_afe52d0e_ec6f_11eb_81b2_d46a6a9a01c8row2_col5,#T_afe52d0e_ec6f_11eb_81b2_d46a6a9a01c8row2_col7,#T_afe52d0e_ec6f_11eb_81b2_d46a6a9a01c8row4_col2,#T_afe52d0e_ec6f_11eb_81b2_d46a6a9a01c8row4_col6,#T_afe52d0e_ec6f_11eb_81b2_d46a6a9a01c8row4_col8,#T_afe52d0e_ec6f_11eb_81b2_d46a6a9a01c8row6_col4{\n",
       "            background-color:  #fff7fb;\n",
       "            color:  #000000;\n",
       "        }#T_afe52d0e_ec6f_11eb_81b2_d46a6a9a01c8row0_col2{\n",
       "            background-color:  #d2d2e7;\n",
       "            color:  #000000;\n",
       "        }#T_afe52d0e_ec6f_11eb_81b2_d46a6a9a01c8row0_col3{\n",
       "            background-color:  #b5c4df;\n",
       "            color:  #000000;\n",
       "        }#T_afe52d0e_ec6f_11eb_81b2_d46a6a9a01c8row0_col4{\n",
       "            background-color:  #f5eef6;\n",
       "            color:  #000000;\n",
       "        }#T_afe52d0e_ec6f_11eb_81b2_d46a6a9a01c8row0_col5{\n",
       "            background-color:  #e9e5f1;\n",
       "            color:  #000000;\n",
       "        }#T_afe52d0e_ec6f_11eb_81b2_d46a6a9a01c8row0_col6,#T_afe52d0e_ec6f_11eb_81b2_d46a6a9a01c8row8_col3{\n",
       "            background-color:  #d1d2e6;\n",
       "            color:  #000000;\n",
       "        }#T_afe52d0e_ec6f_11eb_81b2_d46a6a9a01c8row0_col7,#T_afe52d0e_ec6f_11eb_81b2_d46a6a9a01c8row1_col7{\n",
       "            background-color:  #e1dfed;\n",
       "            color:  #000000;\n",
       "        }#T_afe52d0e_ec6f_11eb_81b2_d46a6a9a01c8row0_col8,#T_afe52d0e_ec6f_11eb_81b2_d46a6a9a01c8row3_col6{\n",
       "            background-color:  #dedcec;\n",
       "            color:  #000000;\n",
       "        }#T_afe52d0e_ec6f_11eb_81b2_d46a6a9a01c8row1_col2{\n",
       "            background-color:  #e0dded;\n",
       "            color:  #000000;\n",
       "        }#T_afe52d0e_ec6f_11eb_81b2_d46a6a9a01c8row1_col4,#T_afe52d0e_ec6f_11eb_81b2_d46a6a9a01c8row4_col1{\n",
       "            background-color:  #97b7d7;\n",
       "            color:  #000000;\n",
       "        }#T_afe52d0e_ec6f_11eb_81b2_d46a6a9a01c8row1_col5,#T_afe52d0e_ec6f_11eb_81b2_d46a6a9a01c8row2_col4{\n",
       "            background-color:  #f3edf5;\n",
       "            color:  #000000;\n",
       "        }#T_afe52d0e_ec6f_11eb_81b2_d46a6a9a01c8row1_col6,#T_afe52d0e_ec6f_11eb_81b2_d46a6a9a01c8row6_col1{\n",
       "            background-color:  #b8c6e0;\n",
       "            color:  #000000;\n",
       "        }#T_afe52d0e_ec6f_11eb_81b2_d46a6a9a01c8row1_col8{\n",
       "            background-color:  #e2dfee;\n",
       "            color:  #000000;\n",
       "        }#T_afe52d0e_ec6f_11eb_81b2_d46a6a9a01c8row2_col0,#T_afe52d0e_ec6f_11eb_81b2_d46a6a9a01c8row5_col0,#T_afe52d0e_ec6f_11eb_81b2_d46a6a9a01c8row5_col3{\n",
       "            background-color:  #bdc8e1;\n",
       "            color:  #000000;\n",
       "        }#T_afe52d0e_ec6f_11eb_81b2_d46a6a9a01c8row2_col1,#T_afe52d0e_ec6f_11eb_81b2_d46a6a9a01c8row6_col0,#T_afe52d0e_ec6f_11eb_81b2_d46a6a9a01c8row7_col0,#T_afe52d0e_ec6f_11eb_81b2_d46a6a9a01c8row7_col1{\n",
       "            background-color:  #d0d1e6;\n",
       "            color:  #000000;\n",
       "        }#T_afe52d0e_ec6f_11eb_81b2_d46a6a9a01c8row2_col3{\n",
       "            background-color:  #fbf3f9;\n",
       "            color:  #000000;\n",
       "        }#T_afe52d0e_ec6f_11eb_81b2_d46a6a9a01c8row2_col6{\n",
       "            background-color:  #80aed2;\n",
       "            color:  #000000;\n",
       "        }#T_afe52d0e_ec6f_11eb_81b2_d46a6a9a01c8row2_col8{\n",
       "            background-color:  #529bc7;\n",
       "            color:  #000000;\n",
       "        }#T_afe52d0e_ec6f_11eb_81b2_d46a6a9a01c8row3_col0,#T_afe52d0e_ec6f_11eb_81b2_d46a6a9a01c8row7_col3{\n",
       "            background-color:  #a7bddb;\n",
       "            color:  #000000;\n",
       "        }#T_afe52d0e_ec6f_11eb_81b2_d46a6a9a01c8row3_col1{\n",
       "            background-color:  #f5eff6;\n",
       "            color:  #000000;\n",
       "        }#T_afe52d0e_ec6f_11eb_81b2_d46a6a9a01c8row3_col2,#T_afe52d0e_ec6f_11eb_81b2_d46a6a9a01c8row7_col2{\n",
       "            background-color:  #fef6fa;\n",
       "            color:  #000000;\n",
       "        }#T_afe52d0e_ec6f_11eb_81b2_d46a6a9a01c8row3_col4{\n",
       "            background-color:  #c4cbe3;\n",
       "            color:  #000000;\n",
       "        }#T_afe52d0e_ec6f_11eb_81b2_d46a6a9a01c8row3_col5,#T_afe52d0e_ec6f_11eb_81b2_d46a6a9a01c8row5_col7{\n",
       "            background-color:  #dcdaeb;\n",
       "            color:  #000000;\n",
       "        }#T_afe52d0e_ec6f_11eb_81b2_d46a6a9a01c8row3_col7{\n",
       "            background-color:  #adc1dd;\n",
       "            color:  #000000;\n",
       "        }#T_afe52d0e_ec6f_11eb_81b2_d46a6a9a01c8row3_col8,#T_afe52d0e_ec6f_11eb_81b2_d46a6a9a01c8row4_col7{\n",
       "            background-color:  #d9d8ea;\n",
       "            color:  #000000;\n",
       "        }#T_afe52d0e_ec6f_11eb_81b2_d46a6a9a01c8row4_col0{\n",
       "            background-color:  #f4eef6;\n",
       "            color:  #000000;\n",
       "        }#T_afe52d0e_ec6f_11eb_81b2_d46a6a9a01c8row4_col3{\n",
       "            background-color:  #d2d3e7;\n",
       "            color:  #000000;\n",
       "        }#T_afe52d0e_ec6f_11eb_81b2_d46a6a9a01c8row4_col5{\n",
       "            background-color:  #fdf5fa;\n",
       "            color:  #000000;\n",
       "        }#T_afe52d0e_ec6f_11eb_81b2_d46a6a9a01c8row5_col1{\n",
       "            background-color:  #ced0e6;\n",
       "            color:  #000000;\n",
       "        }#T_afe52d0e_ec6f_11eb_81b2_d46a6a9a01c8row5_col2{\n",
       "            background-color:  #ede8f3;\n",
       "            color:  #000000;\n",
       "        }#T_afe52d0e_ec6f_11eb_81b2_d46a6a9a01c8row5_col4,#T_afe52d0e_ec6f_11eb_81b2_d46a6a9a01c8row6_col7{\n",
       "            background-color:  #dbdaeb;\n",
       "            color:  #000000;\n",
       "        }#T_afe52d0e_ec6f_11eb_81b2_d46a6a9a01c8row5_col6{\n",
       "            background-color:  #c0c9e2;\n",
       "            color:  #000000;\n",
       "        }#T_afe52d0e_ec6f_11eb_81b2_d46a6a9a01c8row5_col8{\n",
       "            background-color:  #e8e4f0;\n",
       "            color:  #000000;\n",
       "        }#T_afe52d0e_ec6f_11eb_81b2_d46a6a9a01c8row6_col2{\n",
       "            background-color:  #93b5d6;\n",
       "            color:  #000000;\n",
       "        }#T_afe52d0e_ec6f_11eb_81b2_d46a6a9a01c8row6_col3,#T_afe52d0e_ec6f_11eb_81b2_d46a6a9a01c8row6_col5{\n",
       "            background-color:  #eae6f1;\n",
       "            color:  #000000;\n",
       "        }#T_afe52d0e_ec6f_11eb_81b2_d46a6a9a01c8row6_col8{\n",
       "            background-color:  #bfc9e1;\n",
       "            color:  #000000;\n",
       "        }#T_afe52d0e_ec6f_11eb_81b2_d46a6a9a01c8row7_col4{\n",
       "            background-color:  #c5cce3;\n",
       "            color:  #000000;\n",
       "        }#T_afe52d0e_ec6f_11eb_81b2_d46a6a9a01c8row7_col5{\n",
       "            background-color:  #f0eaf4;\n",
       "            color:  #000000;\n",
       "        }#T_afe52d0e_ec6f_11eb_81b2_d46a6a9a01c8row7_col6{\n",
       "            background-color:  #c8cde4;\n",
       "            color:  #000000;\n",
       "        }#T_afe52d0e_ec6f_11eb_81b2_d46a6a9a01c8row7_col8{\n",
       "            background-color:  #d6d6e9;\n",
       "            color:  #000000;\n",
       "        }#T_afe52d0e_ec6f_11eb_81b2_d46a6a9a01c8row8_col0{\n",
       "            background-color:  #c6cce3;\n",
       "            color:  #000000;\n",
       "        }#T_afe52d0e_ec6f_11eb_81b2_d46a6a9a01c8row8_col1{\n",
       "            background-color:  #cdd0e5;\n",
       "            color:  #000000;\n",
       "        }#T_afe52d0e_ec6f_11eb_81b2_d46a6a9a01c8row8_col2{\n",
       "            background-color:  #4c99c5;\n",
       "            color:  #000000;\n",
       "        }#T_afe52d0e_ec6f_11eb_81b2_d46a6a9a01c8row8_col4{\n",
       "            background-color:  #efe9f3;\n",
       "            color:  #000000;\n",
       "        }#T_afe52d0e_ec6f_11eb_81b2_d46a6a9a01c8row8_col5{\n",
       "            background-color:  #f7f0f7;\n",
       "            color:  #000000;\n",
       "        }#T_afe52d0e_ec6f_11eb_81b2_d46a6a9a01c8row8_col6{\n",
       "            background-color:  #a5bddb;\n",
       "            color:  #000000;\n",
       "        }#T_afe52d0e_ec6f_11eb_81b2_d46a6a9a01c8row8_col7{\n",
       "            background-color:  #d3d4e7;\n",
       "            color:  #000000;\n",
       "        }</style><table id=\"T_afe52d0e_ec6f_11eb_81b2_d46a6a9a01c8\" ><thead>    <tr>        <th class=\"blank level0\" ></th>        <th class=\"col_heading level0 col0\" >track_id</th>        <th class=\"col_heading level0 col1\" >acousticness</th>        <th class=\"col_heading level0 col2\" >danceability</th>        <th class=\"col_heading level0 col3\" >energy</th>        <th class=\"col_heading level0 col4\" >instrumentalness</th>        <th class=\"col_heading level0 col5\" >liveness</th>        <th class=\"col_heading level0 col6\" >speechiness</th>        <th class=\"col_heading level0 col7\" >tempo</th>        <th class=\"col_heading level0 col8\" >valence</th>    </tr></thead><tbody>\n",
       "                <tr>\n",
       "                        <th id=\"T_afe52d0e_ec6f_11eb_81b2_d46a6a9a01c8level0_row0\" class=\"row_heading level0 row0\" >track_id</th>\n",
       "                        <td id=\"T_afe52d0e_ec6f_11eb_81b2_d46a6a9a01c8row0_col0\" class=\"data row0 col0\" >1.000000</td>\n",
       "                        <td id=\"T_afe52d0e_ec6f_11eb_81b2_d46a6a9a01c8row0_col1\" class=\"data row0 col1\" >-0.372282</td>\n",
       "                        <td id=\"T_afe52d0e_ec6f_11eb_81b2_d46a6a9a01c8row0_col2\" class=\"data row0 col2\" >0.049454</td>\n",
       "                        <td id=\"T_afe52d0e_ec6f_11eb_81b2_d46a6a9a01c8row0_col3\" class=\"data row0 col3\" >0.140703</td>\n",
       "                        <td id=\"T_afe52d0e_ec6f_11eb_81b2_d46a6a9a01c8row0_col4\" class=\"data row0 col4\" >-0.275623</td>\n",
       "                        <td id=\"T_afe52d0e_ec6f_11eb_81b2_d46a6a9a01c8row0_col5\" class=\"data row0 col5\" >0.048231</td>\n",
       "                        <td id=\"T_afe52d0e_ec6f_11eb_81b2_d46a6a9a01c8row0_col6\" class=\"data row0 col6\" >-0.026995</td>\n",
       "                        <td id=\"T_afe52d0e_ec6f_11eb_81b2_d46a6a9a01c8row0_col7\" class=\"data row0 col7\" >-0.025392</td>\n",
       "                        <td id=\"T_afe52d0e_ec6f_11eb_81b2_d46a6a9a01c8row0_col8\" class=\"data row0 col8\" >0.010070</td>\n",
       "            </tr>\n",
       "            <tr>\n",
       "                        <th id=\"T_afe52d0e_ec6f_11eb_81b2_d46a6a9a01c8level0_row1\" class=\"row_heading level0 row1\" >acousticness</th>\n",
       "                        <td id=\"T_afe52d0e_ec6f_11eb_81b2_d46a6a9a01c8row1_col0\" class=\"data row1 col0\" >-0.372282</td>\n",
       "                        <td id=\"T_afe52d0e_ec6f_11eb_81b2_d46a6a9a01c8row1_col1\" class=\"data row1 col1\" >1.000000</td>\n",
       "                        <td id=\"T_afe52d0e_ec6f_11eb_81b2_d46a6a9a01c8row1_col2\" class=\"data row1 col2\" >-0.028954</td>\n",
       "                        <td id=\"T_afe52d0e_ec6f_11eb_81b2_d46a6a9a01c8row1_col3\" class=\"data row1 col3\" >-0.281619</td>\n",
       "                        <td id=\"T_afe52d0e_ec6f_11eb_81b2_d46a6a9a01c8row1_col4\" class=\"data row1 col4\" >0.194780</td>\n",
       "                        <td id=\"T_afe52d0e_ec6f_11eb_81b2_d46a6a9a01c8row1_col5\" class=\"data row1 col5\" >-0.019991</td>\n",
       "                        <td id=\"T_afe52d0e_ec6f_11eb_81b2_d46a6a9a01c8row1_col6\" class=\"data row1 col6\" >0.072204</td>\n",
       "                        <td id=\"T_afe52d0e_ec6f_11eb_81b2_d46a6a9a01c8row1_col7\" class=\"data row1 col7\" >-0.026310</td>\n",
       "                        <td id=\"T_afe52d0e_ec6f_11eb_81b2_d46a6a9a01c8row1_col8\" class=\"data row1 col8\" >-0.013841</td>\n",
       "            </tr>\n",
       "            <tr>\n",
       "                        <th id=\"T_afe52d0e_ec6f_11eb_81b2_d46a6a9a01c8level0_row2\" class=\"row_heading level0 row2\" >danceability</th>\n",
       "                        <td id=\"T_afe52d0e_ec6f_11eb_81b2_d46a6a9a01c8row2_col0\" class=\"data row2 col0\" >0.049454</td>\n",
       "                        <td id=\"T_afe52d0e_ec6f_11eb_81b2_d46a6a9a01c8row2_col1\" class=\"data row2 col1\" >-0.028954</td>\n",
       "                        <td id=\"T_afe52d0e_ec6f_11eb_81b2_d46a6a9a01c8row2_col2\" class=\"data row2 col2\" >1.000000</td>\n",
       "                        <td id=\"T_afe52d0e_ec6f_11eb_81b2_d46a6a9a01c8row2_col3\" class=\"data row2 col3\" >-0.242032</td>\n",
       "                        <td id=\"T_afe52d0e_ec6f_11eb_81b2_d46a6a9a01c8row2_col4\" class=\"data row2 col4\" >-0.255217</td>\n",
       "                        <td id=\"T_afe52d0e_ec6f_11eb_81b2_d46a6a9a01c8row2_col5\" class=\"data row2 col5\" >-0.106584</td>\n",
       "                        <td id=\"T_afe52d0e_ec6f_11eb_81b2_d46a6a9a01c8row2_col6\" class=\"data row2 col6\" >0.276206</td>\n",
       "                        <td id=\"T_afe52d0e_ec6f_11eb_81b2_d46a6a9a01c8row2_col7\" class=\"data row2 col7\" >-0.242089</td>\n",
       "                        <td id=\"T_afe52d0e_ec6f_11eb_81b2_d46a6a9a01c8row2_col8\" class=\"data row2 col8\" >0.473165</td>\n",
       "            </tr>\n",
       "            <tr>\n",
       "                        <th id=\"T_afe52d0e_ec6f_11eb_81b2_d46a6a9a01c8level0_row3\" class=\"row_heading level0 row3\" >energy</th>\n",
       "                        <td id=\"T_afe52d0e_ec6f_11eb_81b2_d46a6a9a01c8row3_col0\" class=\"data row3 col0\" >0.140703</td>\n",
       "                        <td id=\"T_afe52d0e_ec6f_11eb_81b2_d46a6a9a01c8row3_col1\" class=\"data row3 col1\" >-0.281619</td>\n",
       "                        <td id=\"T_afe52d0e_ec6f_11eb_81b2_d46a6a9a01c8row3_col2\" class=\"data row3 col2\" >-0.242032</td>\n",
       "                        <td id=\"T_afe52d0e_ec6f_11eb_81b2_d46a6a9a01c8row3_col3\" class=\"data row3 col3\" >1.000000</td>\n",
       "                        <td id=\"T_afe52d0e_ec6f_11eb_81b2_d46a6a9a01c8row3_col4\" class=\"data row3 col4\" >0.028238</td>\n",
       "                        <td id=\"T_afe52d0e_ec6f_11eb_81b2_d46a6a9a01c8row3_col5\" class=\"data row3 col5\" >0.113331</td>\n",
       "                        <td id=\"T_afe52d0e_ec6f_11eb_81b2_d46a6a9a01c8row3_col6\" class=\"data row3 col6\" >-0.109983</td>\n",
       "                        <td id=\"T_afe52d0e_ec6f_11eb_81b2_d46a6a9a01c8row3_col7\" class=\"data row3 col7\" >0.195227</td>\n",
       "                        <td id=\"T_afe52d0e_ec6f_11eb_81b2_d46a6a9a01c8row3_col8\" class=\"data row3 col8\" >0.038603</td>\n",
       "            </tr>\n",
       "            <tr>\n",
       "                        <th id=\"T_afe52d0e_ec6f_11eb_81b2_d46a6a9a01c8level0_row4\" class=\"row_heading level0 row4\" >instrumentalness</th>\n",
       "                        <td id=\"T_afe52d0e_ec6f_11eb_81b2_d46a6a9a01c8row4_col0\" class=\"data row4 col0\" >-0.275623</td>\n",
       "                        <td id=\"T_afe52d0e_ec6f_11eb_81b2_d46a6a9a01c8row4_col1\" class=\"data row4 col1\" >0.194780</td>\n",
       "                        <td id=\"T_afe52d0e_ec6f_11eb_81b2_d46a6a9a01c8row4_col2\" class=\"data row4 col2\" >-0.255217</td>\n",
       "                        <td id=\"T_afe52d0e_ec6f_11eb_81b2_d46a6a9a01c8row4_col3\" class=\"data row4 col3\" >0.028238</td>\n",
       "                        <td id=\"T_afe52d0e_ec6f_11eb_81b2_d46a6a9a01c8row4_col4\" class=\"data row4 col4\" >1.000000</td>\n",
       "                        <td id=\"T_afe52d0e_ec6f_11eb_81b2_d46a6a9a01c8row4_col5\" class=\"data row4 col5\" >-0.091022</td>\n",
       "                        <td id=\"T_afe52d0e_ec6f_11eb_81b2_d46a6a9a01c8row4_col6\" class=\"data row4 col6\" >-0.366762</td>\n",
       "                        <td id=\"T_afe52d0e_ec6f_11eb_81b2_d46a6a9a01c8row4_col7\" class=\"data row4 col7\" >0.022215</td>\n",
       "                        <td id=\"T_afe52d0e_ec6f_11eb_81b2_d46a6a9a01c8row4_col8\" class=\"data row4 col8\" >-0.219967</td>\n",
       "            </tr>\n",
       "            <tr>\n",
       "                        <th id=\"T_afe52d0e_ec6f_11eb_81b2_d46a6a9a01c8level0_row5\" class=\"row_heading level0 row5\" >liveness</th>\n",
       "                        <td id=\"T_afe52d0e_ec6f_11eb_81b2_d46a6a9a01c8row5_col0\" class=\"data row5 col0\" >0.048231</td>\n",
       "                        <td id=\"T_afe52d0e_ec6f_11eb_81b2_d46a6a9a01c8row5_col1\" class=\"data row5 col1\" >-0.019991</td>\n",
       "                        <td id=\"T_afe52d0e_ec6f_11eb_81b2_d46a6a9a01c8row5_col2\" class=\"data row5 col2\" >-0.106584</td>\n",
       "                        <td id=\"T_afe52d0e_ec6f_11eb_81b2_d46a6a9a01c8row5_col3\" class=\"data row5 col3\" >0.113331</td>\n",
       "                        <td id=\"T_afe52d0e_ec6f_11eb_81b2_d46a6a9a01c8row5_col4\" class=\"data row5 col4\" >-0.091022</td>\n",
       "                        <td id=\"T_afe52d0e_ec6f_11eb_81b2_d46a6a9a01c8row5_col5\" class=\"data row5 col5\" >1.000000</td>\n",
       "                        <td id=\"T_afe52d0e_ec6f_11eb_81b2_d46a6a9a01c8row5_col6\" class=\"data row5 col6\" >0.041173</td>\n",
       "                        <td id=\"T_afe52d0e_ec6f_11eb_81b2_d46a6a9a01c8row5_col7\" class=\"data row5 col7\" >0.002732</td>\n",
       "                        <td id=\"T_afe52d0e_ec6f_11eb_81b2_d46a6a9a01c8row5_col8\" class=\"data row5 col8\" >-0.045093</td>\n",
       "            </tr>\n",
       "            <tr>\n",
       "                        <th id=\"T_afe52d0e_ec6f_11eb_81b2_d46a6a9a01c8level0_row6\" class=\"row_heading level0 row6\" >speechiness</th>\n",
       "                        <td id=\"T_afe52d0e_ec6f_11eb_81b2_d46a6a9a01c8row6_col0\" class=\"data row6 col0\" >-0.026995</td>\n",
       "                        <td id=\"T_afe52d0e_ec6f_11eb_81b2_d46a6a9a01c8row6_col1\" class=\"data row6 col1\" >0.072204</td>\n",
       "                        <td id=\"T_afe52d0e_ec6f_11eb_81b2_d46a6a9a01c8row6_col2\" class=\"data row6 col2\" >0.276206</td>\n",
       "                        <td id=\"T_afe52d0e_ec6f_11eb_81b2_d46a6a9a01c8row6_col3\" class=\"data row6 col3\" >-0.109983</td>\n",
       "                        <td id=\"T_afe52d0e_ec6f_11eb_81b2_d46a6a9a01c8row6_col4\" class=\"data row6 col4\" >-0.366762</td>\n",
       "                        <td id=\"T_afe52d0e_ec6f_11eb_81b2_d46a6a9a01c8row6_col5\" class=\"data row6 col5\" >0.041173</td>\n",
       "                        <td id=\"T_afe52d0e_ec6f_11eb_81b2_d46a6a9a01c8row6_col6\" class=\"data row6 col6\" >1.000000</td>\n",
       "                        <td id=\"T_afe52d0e_ec6f_11eb_81b2_d46a6a9a01c8row6_col7\" class=\"data row6 col7\" >0.008241</td>\n",
       "                        <td id=\"T_afe52d0e_ec6f_11eb_81b2_d46a6a9a01c8row6_col8\" class=\"data row6 col8\" >0.149894</td>\n",
       "            </tr>\n",
       "            <tr>\n",
       "                        <th id=\"T_afe52d0e_ec6f_11eb_81b2_d46a6a9a01c8level0_row7\" class=\"row_heading level0 row7\" >tempo</th>\n",
       "                        <td id=\"T_afe52d0e_ec6f_11eb_81b2_d46a6a9a01c8row7_col0\" class=\"data row7 col0\" >-0.025392</td>\n",
       "                        <td id=\"T_afe52d0e_ec6f_11eb_81b2_d46a6a9a01c8row7_col1\" class=\"data row7 col1\" >-0.026310</td>\n",
       "                        <td id=\"T_afe52d0e_ec6f_11eb_81b2_d46a6a9a01c8row7_col2\" class=\"data row7 col2\" >-0.242089</td>\n",
       "                        <td id=\"T_afe52d0e_ec6f_11eb_81b2_d46a6a9a01c8row7_col3\" class=\"data row7 col3\" >0.195227</td>\n",
       "                        <td id=\"T_afe52d0e_ec6f_11eb_81b2_d46a6a9a01c8row7_col4\" class=\"data row7 col4\" >0.022215</td>\n",
       "                        <td id=\"T_afe52d0e_ec6f_11eb_81b2_d46a6a9a01c8row7_col5\" class=\"data row7 col5\" >0.002732</td>\n",
       "                        <td id=\"T_afe52d0e_ec6f_11eb_81b2_d46a6a9a01c8row7_col6\" class=\"data row7 col6\" >0.008241</td>\n",
       "                        <td id=\"T_afe52d0e_ec6f_11eb_81b2_d46a6a9a01c8row7_col7\" class=\"data row7 col7\" >1.000000</td>\n",
       "                        <td id=\"T_afe52d0e_ec6f_11eb_81b2_d46a6a9a01c8row7_col8\" class=\"data row7 col8\" >0.052221</td>\n",
       "            </tr>\n",
       "            <tr>\n",
       "                        <th id=\"T_afe52d0e_ec6f_11eb_81b2_d46a6a9a01c8level0_row8\" class=\"row_heading level0 row8\" >valence</th>\n",
       "                        <td id=\"T_afe52d0e_ec6f_11eb_81b2_d46a6a9a01c8row8_col0\" class=\"data row8 col0\" >0.010070</td>\n",
       "                        <td id=\"T_afe52d0e_ec6f_11eb_81b2_d46a6a9a01c8row8_col1\" class=\"data row8 col1\" >-0.013841</td>\n",
       "                        <td id=\"T_afe52d0e_ec6f_11eb_81b2_d46a6a9a01c8row8_col2\" class=\"data row8 col2\" >0.473165</td>\n",
       "                        <td id=\"T_afe52d0e_ec6f_11eb_81b2_d46a6a9a01c8row8_col3\" class=\"data row8 col3\" >0.038603</td>\n",
       "                        <td id=\"T_afe52d0e_ec6f_11eb_81b2_d46a6a9a01c8row8_col4\" class=\"data row8 col4\" >-0.219967</td>\n",
       "                        <td id=\"T_afe52d0e_ec6f_11eb_81b2_d46a6a9a01c8row8_col5\" class=\"data row8 col5\" >-0.045093</td>\n",
       "                        <td id=\"T_afe52d0e_ec6f_11eb_81b2_d46a6a9a01c8row8_col6\" class=\"data row8 col6\" >0.149894</td>\n",
       "                        <td id=\"T_afe52d0e_ec6f_11eb_81b2_d46a6a9a01c8row8_col7\" class=\"data row8 col7\" >0.052221</td>\n",
       "                        <td id=\"T_afe52d0e_ec6f_11eb_81b2_d46a6a9a01c8row8_col8\" class=\"data row8 col8\" >1.000000</td>\n",
       "            </tr>\n",
       "    </tbody></table>"
      ],
      "text/plain": [
       "<pandas.io.formats.style.Styler at 0x20358b83e80>"
      ]
     },
     "execution_count": 18,
     "metadata": {},
     "output_type": "execute_result"
    }
   ],
   "source": [
    "correlation = df.corr()\n",
    "correlation.style.background_gradient()"
   ]
  },
  {
   "cell_type": "markdown",
   "metadata": {},
   "source": [
    "Since the features are not much related, we use PCA to reduce dimensionality!\n",
    "but first we normalise the features."
   ]
  },
  {
   "cell_type": "markdown",
   "metadata": {},
   "source": [
    "#### Normalising the Data"
   ]
  },
  {
   "cell_type": "code",
   "execution_count": 19,
   "metadata": {},
   "outputs": [],
   "source": [
    "from sklearn.preprocessing import StandardScaler\n",
    "features = df.drop(['genre_top','track_id'],axis=1)\n",
    "labels = df['genre_top']\n",
    "\n",
    "scaler = StandardScaler()\n",
    "Transformed_data = scaler.fit_transform(features)"
   ]
  },
  {
   "cell_type": "markdown",
   "metadata": {},
   "source": [
    "#### Dimension reduction"
   ]
  },
  {
   "cell_type": "code",
   "execution_count": 20,
   "metadata": {},
   "outputs": [
    {
     "data": {
      "text/plain": [
       "<BarContainer object of 8 artists>"
      ]
     },
     "execution_count": 20,
     "metadata": {},
     "output_type": "execute_result"
    },
    {
     "data": {
      "image/png": "[encoded data removed]",
      "text/plain": [
       "<Figure size 432x288 with 1 Axes>"
      ]
     },
     "metadata": {
      "needs_background": "light"
     },
     "output_type": "display_data"
    }
   ],
   "source": [
    "from sklearn.decomposition import PCA\n",
    "import matplotlib.pyplot as plt\n",
    "\n",
    "pca = PCA()\n",
    "pca.fit(Transformed_data)\n",
    "var = pca.explained_variance_ratio_\n",
    "\n",
    "fig,ax = plt.subplots()\n",
    "ax.bar(range(8),var)"
   ]
  },
  {
   "cell_type": "markdown",
   "metadata": {},
   "source": [
    "Since the plot is not giving much insight about the var, we use cumulative variance.\n",
    "\n",
    "\n",
    "only the components that are near 85% variance."
   ]
  },
  {
   "cell_type": "code",
   "execution_count": 21,
   "metadata": {},
   "outputs": [
    {
     "data": {
      "text/plain": [
       "<matplotlib.lines.Line2D at 0x2035a438610>"
      ]
     },
     "execution_count": 21,
     "metadata": {},
     "output_type": "execute_result"
    },
    {
     "data": {
      "image/png": "[encoded data removed]",
      "text/plain": [
       "<Figure size 432x288 with 1 Axes>"
      ]
     },
     "metadata": {
      "needs_background": "light"
     },
     "output_type": "display_data"
    }
   ],
   "source": [
    "import numpy as np\n",
    "cum_var = np.cumsum(var)\n",
    "\n",
    "fig, ax = plt.subplots()\n",
    "ax.plot(range(8),cum_var)\n",
    "ax.axhline(y=0.85, linestyle='--')"
   ]
  },
  {
   "cell_type": "markdown",
   "metadata": {},
   "source": [
    "6 components are chosen"
   ]
  },
  {
   "cell_type": "code",
   "execution_count": 22,
   "metadata": {},
   "outputs": [],
   "source": [
    "n_components = 6\n",
    "pca = PCA(n_components, random_state=10)\n",
    "pca.fit(Transformed_data)\n",
    "Transformed_data_1 = pca.transform(Transformed_data)"
   ]
  },
  {
   "cell_type": "markdown",
   "metadata": {},
   "source": [
    "#### Training the Decision Tree model"
   ]
  },
  {
   "cell_type": "code",
   "execution_count": 24,
   "metadata": {},
   "outputs": [
    {
     "name": "stdout",
     "output_type": "stream",
     "text": [
      "Decision Classifier: \n",
      "               precision    recall  f1-score   support\n",
      "\n",
      "     Hip-Hop       0.60      0.60      0.60       235\n",
      "        Rock       0.90      0.90      0.90       966\n",
      "\n",
      "    accuracy                           0.84      1201\n",
      "   macro avg       0.75      0.75      0.75      1201\n",
      "weighted avg       0.84      0.84      0.84      1201\n",
      "\n"
     ]
    }
   ],
   "source": [
    "from sklearn.model_selection import train_test_split\n",
    "from sklearn.tree import DecisionTreeClassifier\n",
    "from sklearn.metrics import classification_report\n",
    "\n",
    "train_data, test_data, train_labels, test_labels = train_test_split(Transformed_data_1,labels,random_state=10)\n",
    "tree = DecisionTreeClassifier(random_state=10)\n",
    "tree.fit(train_data,train_labels)\n",
    "\n",
    "pred_labels_tree = tree.predict(test_data)\n",
    "class_rp = classification_report(test_labels, pred_labels)\n",
    "print(\"Decision Classifier: \\n\", class_rp)"
   ]
  },
  {
   "cell_type": "markdown",
   "metadata": {},
   "source": [
    "for better insights, training the data on Logistic Regression \n",
    "#### Training the model on Logreg"
   ]
  },
  {
   "cell_type": "code",
   "execution_count": 25,
   "metadata": {},
   "outputs": [
    {
     "name": "stdout",
     "output_type": "stream",
     "text": [
      "Decison Tree: \n",
      "               precision    recall  f1-score   support\n",
      "\n",
      "     Hip-Hop       0.60      0.60      0.60       235\n",
      "        Rock       0.90      0.90      0.90       966\n",
      "\n",
      "    accuracy                           0.84      1201\n",
      "   macro avg       0.75      0.75      0.75      1201\n",
      "weighted avg       0.84      0.84      0.84      1201\n",
      "\n",
      "Logistic Regression: \n",
      "               precision    recall  f1-score   support\n",
      "\n",
      "     Hip-Hop       0.77      0.54      0.64       235\n",
      "        Rock       0.90      0.96      0.93       966\n",
      "\n",
      "    accuracy                           0.88      1201\n",
      "   macro avg       0.83      0.75      0.78      1201\n",
      "weighted avg       0.87      0.88      0.87      1201\n",
      "\n"
     ]
    }
   ],
   "source": [
    "from sklearn.linear_model import LogisticRegression\n",
    "\n",
    "logreg = LogisticRegression()\n",
    "logreg.fit(train_data, train_labels)\n",
    "pred_labels_logreg = logreg.predict(test_data)\n",
    "\n",
    "class_rp_logreg = classification_report(test_labels,pred_labels_logreg)\n",
    "class_rp_tree = classification_report(test_labels,pred_labels_tree)\n",
    "\n",
    "print(\"Decison Tree: \\n\",class_rp_tree)\n",
    "print(\"Logistic Regression: \\n\", class_rp_logreg)"
   ]
  },
  {
   "cell_type": "markdown",
   "metadata": {},
   "source": [
    "Now we find that both the models are performing equivalent good!!\n",
    "\n",
    "But the report shows the data is skewed towards Rock"
   ]
  },
  {
   "cell_type": "markdown",
   "metadata": {},
   "source": [
    "#### Balancing the Data"
   ]
  },
  {
   "cell_type": "code",
   "execution_count": 29,
   "metadata": {},
   "outputs": [],
   "source": [
    "hop_only = df.loc[df['genre_top']=='Hip-Hop']\n",
    "rock_only = df.loc[df['genre_top']=='Rock'].sample(len(hop_only),random_state=10)\n",
    "\n",
    "df_1 = pd.concat([hop_only,rock_only])\n",
    "\n",
    "data = df_1.drop(['genre_top','track_id'],axis=1)\n",
    "labels = df_1['genre_top']\n",
    "\n",
    "Transformed_data = pca.fit_transform(scaler.fit_transform(data))\n",
    "\n",
    "train_data, test_data, train_labels, test_labels = train_test_split(Transformed_data,labels,random_state=10)"
   ]
  },
  {
   "cell_type": "markdown",
   "metadata": {},
   "source": [
    "#### Model comparison"
   ]
  },
  {
   "cell_type": "code",
   "execution_count": 30,
   "metadata": {},
   "outputs": [
    {
     "name": "stdout",
     "output_type": "stream",
     "text": [
      "Decision Tree: \n",
      "               precision    recall  f1-score   support\n",
      "\n",
      "     Hip-Hop       0.76      0.80      0.78       225\n",
      "        Rock       0.79      0.75      0.77       230\n",
      "\n",
      "    accuracy                           0.77       455\n",
      "   macro avg       0.77      0.77      0.77       455\n",
      "weighted avg       0.77      0.77      0.77       455\n",
      "\n",
      "Logistic Regression: \n",
      "               precision    recall  f1-score   support\n",
      "\n",
      "     Hip-Hop       0.83      0.80      0.82       225\n",
      "        Rock       0.81      0.84      0.83       230\n",
      "\n",
      "    accuracy                           0.82       455\n",
      "   macro avg       0.82      0.82      0.82       455\n",
      "weighted avg       0.82      0.82      0.82       455\n",
      "\n"
     ]
    }
   ],
   "source": [
    "tree = DecisionTreeClassifier()\n",
    "logreg = LogisticRegression()\n",
    "\n",
    "tree.fit(train_data,train_labels)\n",
    "pred_labels_tree = tree.predict(test_data)\n",
    "\n",
    "logreg.fit(train_data,train_labels)\n",
    "pred_labels_logreg = logreg.predict(test_data)\n",
    "\n",
    "print(\"Decision Tree: \\n\", classification_report(test_labels,pred_labels_tree))\n",
    "print(\"Logistic Regression: \\n\", classification_report(test_labels,pred_labels_logreg))"
   ]
  },
  {
   "cell_type": "markdown",
   "metadata": {},
   "source": [
    "#### Cross-validation evaluation"
   ]
  },
  {
   "cell_type": "code",
   "execution_count": 35,
   "metadata": {},
   "outputs": [
    {
     "name": "stdout",
     "output_type": "stream",
     "text": [
      "Decison Tree: 0.7489010989010989\n",
      "Logistic Regression 0.782967032967033\n"
     ]
    }
   ],
   "source": [
    "from sklearn.model_selection import KFold, cross_val_score\n",
    "kf = KFold(n_splits=10)\n",
    "\n",
    "tree = DecisionTreeClassifier(random_state=10)\n",
    "logreg = LogisticRegression(random_state=10)\n",
    "\n",
    "tree_score = cross_val_score(tree,Transformed_data,labels,cv=kf)\n",
    "logit_score = cross_val_score(logreg,Transformed_data,labels,cv=kf)\n",
    "\n",
    "print(\"Decison Tree:\",np.mean(tree_score))\n",
    "print(\"Logistic Regression\",np.mean(logit_score))"
   ]
  }
 ],
 "metadata": {
  "kernelspec": {
   "display_name": "Python 3",
   "language": "python",
   "name": "python3"
  },
  "language_info": {
   "codemirror_mode": {
    "name": "ipython",
    "version": 3
   },
   "file_extension": ".py",
   "mimetype": "text/x-python",
   "name": "python",
   "nbconvert_exporter": "python",
   "pygments_lexer": "ipython3",
   "version": "3.8.5"
  }
 },
 "nbformat": 4,
 "nbformat_minor": 4
}
